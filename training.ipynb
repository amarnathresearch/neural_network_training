{
 "cells": [
  {
   "cell_type": "code",
   "execution_count": 4,
   "metadata": {},
   "outputs": [],
   "source": [
    "import numpy as np \n",
    "import matplotlib.pyplot as plt \n"
   ]
  },
  {
   "cell_type": "code",
   "execution_count": 58,
   "metadata": {},
   "outputs": [],
   "source": [
    "a =[0, 0, 1, 1, 0, 0, \n",
    "   0, 1, 0, 0, 1, 0, \n",
    "   1, 1, 1, 1, 1, 1, \n",
    "   1, 0, 0, 0, 0, 1, \n",
    "   1, 0, 0, 0, 0, 1] \n",
    "a1 =[0, 0, 0, 0, 0, 0, \n",
    "   0, 0, 1, 1, 0, 0, \n",
    "   0, 1, 0, 0, 1, 0, \n",
    "   1, 1, 1, 1, 1, 1, \n",
    "   1, 0, 0, 0, 0, 1] \n",
    "# B \n",
    "b =[0, 1, 1, 1, 1, 0, \n",
    "   0, 1, 0, 0, 1, 0, \n",
    "   0, 1, 1, 1, 1, 0, \n",
    "   0, 1, 0, 0, 1, 0, \n",
    "   0, 1, 1, 1, 1, 0] \n",
    "# C \n",
    "c =[0, 1, 1, 1, 1, 0, \n",
    "   0, 1, 0, 0, 0, 0, \n",
    "   0, 1, 0, 0, 0, 0, \n",
    "   0, 1, 0, 0, 0, 0, \n",
    "   0, 1, 1, 1, 1, 0] \n",
    "  \n",
    "# Creating labels \n",
    "y =[[1, 0, 0],\n",
    "    [1, 0, 0],\n",
    "   [0, 1, 0], \n",
    "   [0, 0, 1]] "
   ]
  },
  {
   "cell_type": "code",
   "execution_count": 60,
   "metadata": {},
   "outputs": [
    {
     "data": {
      "image/png": "[encoded data removed]",
      "text/plain": [
       "<Figure size 432x288 with 1 Axes>"
      ]
     },
     "metadata": {},
     "output_type": "display_data"
    }
   ],
   "source": [
    "# visualizing the data, ploting A. \n",
    "plt.imshow(np.array(a1).reshape(5, 6)) \n",
    "plt.show() "
   ]
  },
  {
   "cell_type": "code",
   "execution_count": 68,
   "metadata": {},
   "outputs": [],
   "source": [
    "x =[np.array(a).reshape(1, 30), np.array(a1).reshape(1, 30), np.array(b).reshape(1, 30),  \n",
    "                                np.array(c).reshape(1, 30)] \n",
    "  \n",
    "  "
   ]
  },
  {
   "cell_type": "code",
   "execution_count": 69,
   "metadata": {},
   "outputs": [],
   "source": [
    "y = np.array(y)"
   ]
  },
  {
   "cell_type": "code",
   "execution_count": 70,
   "metadata": {},
   "outputs": [
    {
     "data": {
      "text/plain": [
       "array([[1, 0, 0],\n",
       "       [1, 0, 0],\n",
       "       [0, 1, 0],\n",
       "       [0, 0, 1]])"
      ]
     },
     "execution_count": 70,
     "metadata": {},
     "output_type": "execute_result"
    }
   ],
   "source": [
    "y"
   ]
  },
  {
   "cell_type": "code",
   "execution_count": 71,
   "metadata": {},
   "outputs": [],
   "source": [
    "def sigmoid(x): \n",
    "    return(1/(1 + np.exp(-x))) "
   ]
  },
  {
   "cell_type": "code",
   "execution_count": 72,
   "metadata": {},
   "outputs": [],
   "source": [
    "# Creating the Feed forward neural network \n",
    "# 1 Input layer(1, 30) \n",
    "# 1 hidden layer (1, 5) \n",
    "# 1 output layer(3, 3) \n",
    "  \n",
    "def f_forward(x, w1, w2): \n",
    "    # hidden \n",
    "    z1 = x.dot(w1)# input from layer 1  \n",
    "    a1 = sigmoid(z1)# out put of layer 2  \n",
    "    # Output layer \n",
    "    z2 = a1.dot(w2)# input of out layer \n",
    "    a2 = sigmoid(z2)# output of out layer \n",
    "    return(a2) \n",
    "   \n",
    "# initializing the weights randomly \n",
    "def generate_wt(x, y): \n",
    "    l =[] \n",
    "    for i in range(x * y):\n",
    "#         l.append(1)\n",
    "        l.append(np.random.randn()) \n",
    "    return(np.array(l).reshape(x, y)) \n",
    "      \n",
    "# for loss we will be using mean square error(MSE) \n",
    "def loss(out, Y): \n",
    "    s =(np.square(out-Y)) \n",
    "    s = np.sum(s)/len(y) \n",
    "    return(s) \n",
    "    \n",
    "# Back propagation of error  \n",
    "def back_prop(x, y, w1, w2, alpha): \n",
    "      \n",
    "    # hiden layer \n",
    "    z1 = x.dot(w1)# input from layer 1  \n",
    "    a1 = sigmoid(z1)# output of layer 2  \n",
    "      \n",
    "    # Output layer \n",
    "    z2 = a1.dot(w2)# input of out layer \n",
    "    a2 = sigmoid(z2)# output of out layer \n",
    "    # error in output layer \n",
    "    d2 =(a2-y) \n",
    "    d1 = np.multiply((w2.dot((d2.transpose()))).transpose(),  \n",
    "                                   (np.multiply(a1, 1-a1))) \n",
    "  \n",
    "    # Gradient for w1 and w2 \n",
    "    w1_adj = x.transpose().dot(d1) \n",
    "    w2_adj = a1.transpose().dot(d2) \n",
    "      \n",
    "    # Updating parameters \n",
    "    w1 = w1-(alpha*(w1_adj)) \n",
    "    w2 = w2-(alpha*(w2_adj)) \n",
    "      \n",
    "    return(w1, w2) "
   ]
  },
  {
   "cell_type": "code",
   "execution_count": 73,
   "metadata": {},
   "outputs": [],
   "source": [
    "def train(x, Y, w1, w2, alpha = 0.01, epoch = 10): \n",
    "    acc =[] \n",
    "    losss =[] \n",
    "    for j in range(epoch): \n",
    "        l =[] \n",
    "        for i in range(len(x)): \n",
    "            out = f_forward(x[i], w1, w2) \n",
    "            l.append((loss(out, Y[i]))) \n",
    "            w1, w2 = back_prop(x[i], y[i], w1, w2, alpha) \n",
    "        print(\"epochs:\", j + 1, \"======== acc:\", (1-(sum(l)/len(x)))*100, \"=== loss:\", (sum(l)/len(x)))    \n",
    "        acc.append((1-(sum(l)/len(x)))*100) \n",
    "        losss.append(sum(l)/len(x)) \n",
    "    return(acc, losss, w1, w2) \n",
    "   \n",
    "def predict(x, w1, w2): \n",
    "    Out = f_forward(x, w1, w2) \n",
    "    maxm = 0\n",
    "    k = 0\n",
    "    for i in range(len(Out[0])): \n",
    "        if(maxm<Out[0][i]): \n",
    "            maxm = Out[0][i] \n",
    "            k = i \n",
    "    if(k == 0): \n",
    "        print(\"Image is of letter A.\") \n",
    "    elif(k == 1): \n",
    "        print(\"Image is of letter B.\") \n",
    "    else: \n",
    "        print(\"Image is of letter C.\") \n",
    "    plt.imshow(x.reshape(5, 6)) \n",
    "    plt.show()    "
   ]
  },
  {
   "cell_type": "code",
   "execution_count": 74,
   "metadata": {
    "scrolled": true
   },
   "outputs": [
    {
     "name": "stdout",
     "output_type": "stream",
     "text": [
      "[[ 0.38219916 -0.45604937  2.25461897  0.89125017  1.55059196]\n",
      " [ 0.5358067  -2.07057919 -0.04227829  0.26983835  2.54898485]\n",
      " [ 0.28784681  0.24656276  0.96973326 -0.2927887   0.21120593]\n",
      " [-1.12795655 -1.01275428  1.32767706  0.28206045  1.180561  ]\n",
      " [ 1.10411894  0.81541289 -1.50732034 -0.12191972 -1.63695408]\n",
      " [-0.19908753  0.87436324  0.69107165 -0.67363957  0.17870426]\n",
      " [ 0.88620829  0.08651471  0.49240785 -1.02649327  0.14871372]\n",
      " [ 1.2293042   0.04707348  0.14872977 -1.27286333 -0.75777771]\n",
      " [-2.63436418 -0.73811208 -0.60907304 -1.35199759  0.86778045]\n",
      " [ 0.07432669  0.28700289 -0.12567387 -0.04505455  2.80761736]\n",
      " [ 0.7354888   1.43469535 -0.09323984 -0.92996002  0.21779189]\n",
      " [-1.0692555  -0.06797312  2.04781793 -1.09910432 -0.37397659]\n",
      " [ 0.01442575 -0.1640519  -0.42959155  0.22981779 -1.42591569]\n",
      " [ 0.69826708  0.56450803  1.34319737 -1.25484768  1.34290813]\n",
      " [ 0.95985716 -1.51483908 -1.41375289 -0.5681959  -1.76850046]\n",
      " [ 1.29467564  0.06269196  1.56411005 -0.6972834   0.17035899]\n",
      " [ 0.76106557 -0.49463802 -0.84319966 -0.59080535  1.03830454]\n",
      " [ 1.40629256  0.53504949 -1.38259648  0.76507504  0.47316352]\n",
      " [-1.1208008   0.64182535  0.0681617   0.79384132 -0.01592338]\n",
      " [-0.20389643 -0.05963114  0.75402055  0.1267136  -3.50127032]\n",
      " [-0.99806517 -1.52486624  0.7800378  -1.07038759 -0.42408899]\n",
      " [ 0.11358707  1.17543633  0.42268818  0.49125646 -0.67375105]\n",
      " [-0.45147759 -0.31467497  1.98732662 -0.28764611 -1.19391532]\n",
      " [ 1.53053938 -0.6731935   1.27525345  1.61948199  0.86121904]\n",
      " [-0.11969695 -1.07873177 -1.40933193  0.23130185 -0.84504443]\n",
      " [ 1.0795288  -0.65188829 -1.94127676  0.55607816 -0.32397981]\n",
      " [-1.32468854 -0.10303763  1.02521333  1.51116703 -0.06524215]\n",
      " [ 0.42694234  0.02382446  0.02934843  0.19472026 -0.02461317]\n",
      " [ 0.14415996 -0.60281693  0.82458531 -0.60053719  0.04128806]\n",
      " [-0.36455342 -0.47529902 -0.93727165 -2.1608964  -0.62005525]] \n",
      "\n",
      " [[ 0.99327726  0.19704458  0.15449916]\n",
      " [ 0.13533387 -0.09901057  0.97565471]\n",
      " [-0.57985644  0.25514374 -0.319963  ]\n",
      " [-0.42017335 -0.34831349  0.35281961]\n",
      " [ 1.42414291 -0.40623336  0.59228736]]\n"
     ]
    }
   ],
   "source": [
    "w1 = generate_wt(30, 5) \n",
    "w2 = generate_wt(5, 3) \n",
    "print(w1, \"\\n\\n\", w2)"
   ]
  },
  {
   "cell_type": "code",
   "execution_count": 75,
   "metadata": {
    "scrolled": true
   },
   "outputs": [
    {
     "name": "stdout",
     "output_type": "stream",
     "text": [
      "epochs: 1 ======== acc: 80.22170630930124 === loss: 0.19778293690698753\n",
      "epochs: 2 ======== acc: 81.64381797545676 === loss: 0.18356182024543244\n",
      "epochs: 3 ======== acc: 82.84846211457936 === loss: 0.17151537885420634\n",
      "epochs: 4 ======== acc: 83.90276661753826 === loss: 0.16097233382461745\n",
      "epochs: 5 ======== acc: 84.84557599712834 === loss: 0.1515442400287167\n",
      "epochs: 6 ======== acc: 85.69678037643422 === loss: 0.14303219623565783\n",
      "epochs: 7 ======== acc: 86.46615124757562 === loss: 0.13533848752424368\n",
      "epochs: 8 ======== acc: 87.15999615374625 === loss: 0.12840003846253756\n",
      "epochs: 9 ======== acc: 87.78448376301515 === loss: 0.12215516236984855\n",
      "epochs: 10 ======== acc: 88.34648147239457 === loss: 0.11653518527605419\n",
      "epochs: 11 ======== acc: 88.85328762649249 === loss: 0.11146712373507502\n",
      "epochs: 12 ======== acc: 89.31212226150632 === loss: 0.10687877738493687\n",
      "epochs: 13 ======== acc: 89.72971419436485 === loss: 0.10270285805635165\n",
      "epochs: 14 ======== acc: 90.11205941072963 === loss: 0.09887940589270369\n",
      "epochs: 15 ======== acc: 90.46432912041956 === loss: 0.09535670879580439\n",
      "epochs: 16 ======== acc: 90.79088106690565 === loss: 0.09209118933094339\n",
      "epochs: 17 ======== acc: 91.09533033555807 === loss: 0.08904669664441918\n",
      "epochs: 18 ======== acc: 91.38064702840042 === loss: 0.08619352971599584\n",
      "epochs: 19 ======== acc: 91.64925972145804 === loss: 0.08350740278541954\n",
      "epochs: 20 ======== acc: 91.9031527592652 === loss: 0.08096847240734804\n",
      "epochs: 21 ======== acc: 92.14395173300414 === loss: 0.07856048266995869\n",
      "epochs: 22 ======== acc: 92.37299539582605 === loss: 0.0762700460417395\n",
      "epochs: 23 ======== acc: 92.59139444971744 === loss: 0.07408605550282549\n",
      "epochs: 24 ======== acc: 92.80007868223916 === loss: 0.07199921317760836\n",
      "epochs: 25 ======== acc: 92.99983428762675 === loss: 0.07000165712373244\n",
      "epochs: 26 ======== acc: 93.19133318623989 === loss: 0.06808666813760106\n",
      "epochs: 27 ======== acc: 93.37515595829228 === loss: 0.06624844041707717\n",
      "epochs: 28 ======== acc: 93.55180974933013 === loss: 0.0644819025066987\n",
      "epochs: 29 ======== acc: 93.7217422480843 === loss: 0.06278257751915706\n",
      "epochs: 30 ======== acc: 93.88535261001138 === loss: 0.06114647389988612\n",
      "epochs: 31 ======== acc: 94.0430000107279 === loss: 0.05956999989272102\n",
      "epochs: 32 ======== acc: 94.1950103616658 === loss: 0.058049896383342146\n",
      "epochs: 33 ======== acc: 94.34168160070918 === loss: 0.05658318399290817\n",
      "epochs: 34 ======== acc: 94.48328787741583 === loss: 0.05516712122584162\n",
      "epochs: 35 ======== acc: 94.62008288019244 === loss: 0.05379917119807556\n",
      "epochs: 36 ======== acc: 94.752302496872 === loss: 0.05247697503127993\n",
      "epochs: 37 ======== acc: 94.8801669568561 === loss: 0.051198330431438975\n",
      "epochs: 38 ======== acc: 95.00388256946968 === loss: 0.049961174305303245\n",
      "epochs: 39 ======== acc: 95.12364314721741 === loss: 0.0487635685278259\n",
      "epochs: 40 ======== acc: 95.23963118252156 === loss: 0.047603688174784324\n",
      "epochs: 41 ======== acc: 95.35201883094287 === loss: 0.046479811690571374\n",
      "epochs: 42 ======== acc: 95.4609687418189 === loss: 0.045390312581810865\n",
      "epochs: 43 ======== acc: 95.56663476790897 === loss: 0.0443336523209104\n",
      "epochs: 44 ======== acc: 95.66916257839846 === loss: 0.04330837421601545\n",
      "epochs: 45 ======== acc: 95.76869019402 === loss: 0.04231309805979996\n",
      "epochs: 46 ======== acc: 95.86534845872373 === loss: 0.04134651541276269\n",
      "epochs: 47 ======== acc: 95.95926145899888 === loss: 0.040407385410011175\n",
      "epochs: 48 ======== acc: 96.05054689939281 === loss: 0.039494531006071844\n",
      "epochs: 49 ======== acc: 96.13931644082679 === loss: 0.03860683559173218\n",
      "epochs: 50 ======== acc: 96.22567600684104 === loss: 0.03774323993158961\n",
      "epochs: 51 ======== acc: 96.30972606181642 === loss: 0.036902739381835706\n",
      "epochs: 52 ======== acc: 96.39156186443859 === loss: 0.03608438135561411\n",
      "epochs: 53 ======== acc: 96.47127369913547 === loss: 0.03528726300864539\n",
      "epochs: 54 ======== acc: 96.54894708788177 === loss: 0.03451052912118224\n",
      "epochs: 55 ======== acc: 96.62466298458817 === loss: 0.03375337015411828\n",
      "epochs: 56 ======== acc: 96.69849795424594 === loss: 0.03301502045754051\n",
      "epochs: 57 ======== acc: 96.77052433905288 === loss: 0.03229475660947118\n",
      "epochs: 58 ======== acc: 96.84081041387364 === loss: 0.031591895861263486\n",
      "epochs: 59 ======== acc: 96.90942053356244 === loss: 0.030905794664375603\n",
      "epochs: 60 ======== acc: 96.97641527486435 === loss: 0.030235847251356505\n",
      "epochs: 61 ======== acc: 97.04185157578318 === loss: 0.029581484242168235\n",
      "epochs: 62 ======== acc: 97.10578287541868 === loss: 0.02894217124581309\n",
      "epochs: 63 ======== acc: 97.16825925729789 === loss: 0.028317407427021036\n",
      "epochs: 64 ======== acc: 97.22932759911278 === loss: 0.027706724008872214\n",
      "epochs: 65 ======== acc: 97.28903173149584 === loss: 0.027109682685041533\n",
      "epochs: 66 ======== acc: 97.34741260798701 === loss: 0.026525873920129964\n",
      "epochs: 67 ======== acc: 97.4045084876566 === loss: 0.025954915123434015\n",
      "epochs: 68 ======== acc: 97.46035513095488 === loss: 0.0253964486904512\n",
      "epochs: 69 ======== acc: 97.51498600828599 === loss: 0.024850139917140156\n",
      "epochs: 70 ======== acc: 97.56843251960993 === loss: 0.024315674803900747\n",
      "epochs: 71 ======== acc: 97.62072422213912 === loss: 0.02379275777860884\n",
      "epochs: 72 ======== acc: 97.67188906201825 === loss: 0.023281109379817408\n",
      "epochs: 73 ======== acc: 97.72195360487093 === loss: 0.02278046395129065\n",
      "epochs: 74 ======== acc: 97.77094325937514 === loss: 0.022290567406248595\n",
      "epochs: 75 ======== acc: 97.81888248768882 === loss: 0.021811175123111794\n",
      "epochs: 76 ======== acc: 97.86579499664967 === loss: 0.021342050033503295\n",
      "epochs: 77 ======== acc: 97.91170390424189 === loss: 0.020882960957581083\n",
      "epochs: 78 ======== acc: 97.95663187682713 === loss: 0.02043368123172867\n",
      "epochs: 79 ======== acc: 98.00060123399948 === loss: 0.019993987660005246\n",
      "epochs: 80 ======== acc: 98.04363401952631 === loss: 0.01956365980473694\n",
      "epochs: 81 ======== acc: 98.08575203853474 === loss: 0.019142479614652638\n",
      "epochs: 82 ======== acc: 98.12697686274674 === loss: 0.018730231372532463\n",
      "epochs: 83 ======== acc: 98.16732980701934 === loss: 0.018326701929806604\n",
      "epochs: 84 ======== acc: 98.20683188160186 === loss: 0.01793168118398146\n",
      "epochs: 85 ======== acc: 98.24550372531658 === loss: 0.01754496274683414\n",
      "epochs: 86 ======== acc: 98.2833655252785 === loss: 0.017166344747215026\n",
      "epochs: 87 ======== acc: 98.32043692881722 === loss: 0.016795630711827846\n",
      "epochs: 88 ======== acc: 98.3567369530012 === loss: 0.016432630469988017\n",
      "epochs: 89 ======== acc: 98.39228389666434 === loss: 0.016077161033356546\n",
      "epochs: 90 ======== acc: 98.42709525918045 === loss: 0.015729047408195446\n",
      "epochs: 91 ======== acc: 98.46118766949856 === loss: 0.015388123305014403\n",
      "epochs: 92 ======== acc: 98.49457682820754 === loss: 0.015054231717924624\n",
      "epochs: 93 ======== acc: 98.5272774646893 === loss: 0.014727225353107016\n",
      "epochs: 94 ======== acc: 98.55930331077474 === loss: 0.014406966892252628\n",
      "epochs: 95 ======== acc: 98.59066709174617 === loss: 0.0140933290825383\n",
      "epochs: 96 ======== acc: 98.62138053503038 === loss: 0.013786194649696125\n",
      "epochs: 97 ======== acc: 98.65145439648418 === loss: 0.013485456035158166\n",
      "epochs: 98 ======== acc: 98.68089850377125 === loss: 0.013191014962287613\n",
      "epochs: 99 ======== acc: 98.70972181594787 === loss: 0.012902781840521245\n",
      "epochs: 100 ======== acc: 98.73793249800197 === loss: 0.012620675019980359\n"
     ]
    }
   ],
   "source": [
    "acc, losss, w1, w2 = train(x, y, w1, w2, 0.1, 100)\n"
   ]
  },
  {
   "cell_type": "code",
   "execution_count": 76,
   "metadata": {},
   "outputs": [
    {
     "data": {
      "image/png": "[encoded data removed]",
      "text/plain": [
       "<Figure size 432x288 with 1 Axes>"
      ]
     },
     "metadata": {},
     "output_type": "display_data"
    },
    {
     "data": {
      "image/png": "[encoded data removed]",
      "text/plain": [
       "<Figure size 432x288 with 1 Axes>"
      ]
     },
     "metadata": {},
     "output_type": "display_data"
    }
   ],
   "source": [
    "import matplotlib.pyplot as plt1 \n",
    "  \n",
    "# ploting accuraccy \n",
    "plt1.plot(acc) \n",
    "plt1.ylabel('Accuracy') \n",
    "plt1.xlabel(\"Epochs:\") \n",
    "plt1.show() \n",
    "  \n",
    "# plotting Loss \n",
    "plt1.plot(losss) \n",
    "plt1.ylabel('Loss') \n",
    "plt1.xlabel(\"Epochs:\") \n",
    "plt1.show()"
   ]
  },
  {
   "cell_type": "code",
   "execution_count": 80,
   "metadata": {},
   "outputs": [
    {
     "name": "stdout",
     "output_type": "stream",
     "text": [
      "Image is of letter C.\n"
     ]
    },
    {
     "data": {
      "image/png": "[encoded data removed]",
      "text/plain": [
       "<Figure size 432x288 with 1 Axes>"
      ]
     },
     "metadata": {},
     "output_type": "display_data"
    }
   ],
   "source": [
    "predict(x[3], w1, w2)"
   ]
  },
  {
   "cell_type": "code",
   "execution_count": null,
   "metadata": {},
   "outputs": [],
   "source": []
  }
 ],
 "metadata": {
  "kernelspec": {
   "display_name": "Python 3",
   "language": "python",
   "name": "python3"
  },
  "language_info": {
   "codemirror_mode": {
    "name": "ipython",
    "version": 3
   },
   "file_extension": ".py",
   "mimetype": "text/x-python",
   "name": "python",
   "nbconvert_exporter": "python",
   "pygments_lexer": "ipython3",
   "version": "3.6.9"
  }
 },
 "nbformat": 4,
 "nbformat_minor": 2
}
